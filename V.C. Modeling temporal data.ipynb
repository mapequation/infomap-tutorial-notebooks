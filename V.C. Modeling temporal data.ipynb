{
 "cells": [
  {
   "cell_type": "markdown",
   "metadata": {},
   "source": [
    "# V.C. Modeling temporal data\n",
    "\n",
    "There are different ways to represent temporal data, but if we have temporal snapshots of networks, a straightforward way to represent them is a multilayer network where each layer represents a time slice.\n",
    "\n",
    "## Using a multilayer network\n",
    "\n",
    "In a multilayer network, each physical node can exist in a number of layers, with different link structure for each layer. The physical nodes may be defined optionally as in the Pajek format, but for the links there are three different ways to define them, depending on the data you have. With the `*Multilayer` heading, you have to specify all intra-layer and inter-layer links explicitly. With the `*Intra` heading you only specify links within each layer and the links between layers are generated automatically by inter-layer relaxation, optionally constrained by inter-layer links defined under the `*Inter` heading.\n",
    "\n",
    "See the [interactive storyboard](https://mapequation.org/apps/multilayer-network/index.html) for an illustration.\n",
    "\n",
    "## Temporal constraints\n",
    "\n",
    "In a multilayer network, a node in one layer can be connected with nodes in any other layer. If we let Infomap simulate inter-layer links, we can limit the number of neighboring layers in each direction to connect to using the `--multilayer-relax-limit`. For example, Rojas et. al uses `--multilayer-relax-limit 1` in the paper [\"A multiscale view of the Phanerozoic fossil record reveals the three major biotic transitions\"](https://www.nature.com/articles/s42003-021-01805-y) to model a (time-reversible) causal simulation connecting geological stages.\n",
    "\n",
    "By default, a node connects to the same physical node in other layers with a strength proportionally to the outgoing weight. As an alternative, we can let Infomap connect layers more strongly where they are similar, measured by the Jensen-Shannon divergence, using the `--multilayer-relax-by-jsd` flag. This is done by Aslak et. al in the paper [\"Constrained information flows in temporal networks reveal intermittent communities\"](https://journals.aps.org/pre/abstract/10.1103/PhysRevE.97.062312).\n",
    "\n",
    "Below is a general example programmatically adding a multilayer network in Infomap.\n"
   ]
  },
  {
   "cell_type": "code",
   "execution_count": 3,
   "metadata": {},
   "outputs": [],
   "source": [
    "%matplotlib inline\n",
    "%config InlineBackend.figure_format='retina'\n",
    "\n",
    "import infomap\n",
    "import json\n",
    "import networkx as nx\n",
    "import numpy as np\n",
    "import matplotlib.pyplot as plt\n",
    "import seaborn as sns\n",
    "import random\n",
    "import tempfile\n",
    "from pathlib import Path\n"
   ]
  },
  {
   "cell_type": "code",
   "execution_count": 4,
   "metadata": {},
   "outputs": [],
   "source": [
    "%reload_ext autoreload\n",
    "%autoreload 2\n",
    "import util"
   ]
  },
  {
   "cell_type": "code",
   "execution_count": 6,
   "metadata": {},
   "outputs": [
    {
     "name": "stdout",
     "output_type": "stream",
     "text": [
      "\n",
      "Adding multilayer network...\n",
      "\n",
      "Adding intra-layer network...\n"
     ]
    }
   ],
   "source": [
    "im = infomap.Infomap(silent=True)\n",
    "print(\"\\nAdding multilayer network...\")\n",
    "\n",
    "# from (layer1, node1) to (layer2, node2) with optional weight\n",
    "im.add_multilayer_link((2, 1), (1, 2), 1.0)\n",
    "im.add_multilayer_link((1, 2), (2, 1), 1.0)\n",
    "im.add_multilayer_link((3, 2), (2, 3), 1.0)\n",
    "\n",
    "im.run()\n",
    "\n",
    "\n",
    "\n",
    "# Add only intra-layer links and let Infomap provide\n",
    "# inter-layer links by relaxing the random walker's\n",
    "# constraint to its current layer\n",
    "im = infomap.Infomap(silent=True)\n",
    "print(\"\\nAdding intra-layer network...\")\n",
    "\n",
    "# Add layer_id, source_node_id, target_node_id and optional weight\n",
    "im.add_multilayer_intra_link(1, 1, 2)\n",
    "im.add_multilayer_intra_link(1, 2, 3)\n",
    "im.add_multilayer_intra_link(2, 1, 3)\n",
    "im.add_multilayer_intra_link(2, 3, 4)\n",
    "# Optionally add inter-layer links but that will prevent Infomap\n",
    "# from simulating those\n",
    "# im.add_multilayer_inter_link(1, 1, 2)\n",
    "\n",
    "im.run()\n",
    "\n"
   ]
  },
  {
   "cell_type": "code",
   "execution_count": null,
   "metadata": {},
   "outputs": [],
   "source": []
  }
 ],
 "metadata": {
  "kernelspec": {
   "display_name": "py311",
   "language": "python",
   "name": "python3"
  },
  "language_info": {
   "codemirror_mode": {
    "name": "ipython",
    "version": 3
   },
   "file_extension": ".py",
   "mimetype": "text/x-python",
   "name": "python",
   "nbconvert_exporter": "python",
   "pygments_lexer": "ipython3",
   "version": "3.11.0"
  },
  "orig_nbformat": 4
 },
 "nbformat": 4,
 "nbformat_minor": 2
}
