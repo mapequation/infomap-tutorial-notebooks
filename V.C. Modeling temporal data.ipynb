{
 "cells": [
  {
   "cell_type": "markdown",
   "metadata": {},
   "source": [
    "# V.C. Modeling temporal data\n",
    "\n",
    "There are different ways to represent temporal data, but if we have temporal snapshots of networks, a straightforward way to represent them is a multilayer network where each layer represents a time point or interval.\n",
    "\n",
    "## Using a multilayer network\n",
    "\n",
    "In a multilayer network, each physical node can exist in a number of layers, with different link structure for each layer. The physical nodes may be defined optionally as in the Pajek format, but for the links there are three different ways to define them, depending on the data you have. With the `*Multilayer` heading, you have to specify all intra-layer and inter-layer links explicitly. With the `*Intra` heading you only specify links within each layer and the links between layers are generated automatically by inter-layer relaxation, optionally constrained by inter-layer links defined under the `*Inter` heading.\n",
    "\n",
    "See the [interactive storyboard](https://mapequation.org/apps/multilayer-network/index.html) for an illustration.\n",
    "\n",
    "## Temporal constraints\n",
    "\n",
    "In a multilayer network, a node in one layer can be connected with nodes in any other layer. If we let Infomap simulate inter-layer links, we can limit the number of neighboring layers in each direction to connect to using the `--multilayer-relax-limit`. For example, Rojas et. al uses `--multilayer-relax-limit 1` in the paper [\"A multiscale view of the Phanerozoic fossil record reveals the three major biotic transitions\"](https://www.nature.com/articles/s42003-021-01805-y) to model a (time-reversible) causal simulation connecting geological stages.\n",
    "\n",
    "By default, a node connects to the same physical node in other layers with a strength proportionally to the outgoing weight. As an alternative, we can let Infomap connect layers more strongly where they are similar, measured by the Jensen-Shannon divergence, using the `--multilayer-relax-by-jsd` flag. This is done by Aslak et. al in the paper [\"Constrained information flows in temporal networks reveal intermittent communities\"](https://journals.aps.org/pre/abstract/10.1103/PhysRevE.97.062312).\n",
    "\n",
    "\n",
    "For an example how to optimize multilayer networks with Infomap, see the [V.B. Multilayer networks](V.B.%20Multilayer%20networks.ipynb) notebook.\n"
   ]
  },
  {
   "cell_type": "code",
   "execution_count": null,
   "metadata": {},
   "outputs": [],
   "source": []
  }
 ],
 "metadata": {
  "kernelspec": {
   "display_name": "py311",
   "language": "python",
   "name": "python3"
  },
  "language_info": {
   "codemirror_mode": {
    "name": "ipython",
    "version": 3
   },
   "file_extension": ".py",
   "mimetype": "text/x-python",
   "name": "python",
   "nbconvert_exporter": "python",
   "pygments_lexer": "ipython3",
   "version": "3.11.0"
  },
  "orig_nbformat": 4
 },
 "nbformat": 4,
 "nbformat_minor": 2
}
