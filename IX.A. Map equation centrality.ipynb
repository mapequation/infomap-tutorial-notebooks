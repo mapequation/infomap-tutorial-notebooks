{
 "cells": [
  {
   "cell_type": "markdown",
   "metadata": {},
   "source": [
    "# IX.A. Map equation centrality"
   ]
  },
  {
   "cell_type": "code",
   "execution_count": 1,
   "metadata": {},
   "outputs": [],
   "source": [
    "%matplotlib inline\n",
    "\n",
    "from infomap import Infomap\n",
    "from typing import Dict, Set\n",
    "\n",
    "import networkx as nx\n",
    "import matplotlib.pyplot as plt\n",
    "import pandas as pd\n",
    "import seaborn as sns"
   ]
  },
  {
   "cell_type": "code",
   "execution_count": 2,
   "metadata": {},
   "outputs": [],
   "source": [
    "sns.set_palette(sns.color_palette(\"colorblind\"))"
   ]
  },
  {
   "cell_type": "code",
   "execution_count": 3,
   "metadata": {},
   "outputs": [],
   "source": [
    "def mkPartition( infomap\n",
    "               ) -> Dict[int, Set[str]]:\n",
    "    \"\"\"\n",
    "    Extracts a partition from an infomap instance.\n",
    "\n",
    "    Parameters\n",
    "    ----------\n",
    "    infomap \n",
    "        An infomap instance. We assume that it has been run so that\n",
    "        we can actually extract a partition from it.\n",
    "\n",
    "    Returns\n",
    "    -------\n",
    "    Dict[int, Set[str]]\n",
    "        The networks partition calculated by the given infomap instance\n",
    "        with community IDs as keys and sets of node labels as values.\n",
    "        (Assuming that nodes were added with strings as IDs to Infomap.)\n",
    "    \"\"\"\n",
    "    communities = dict()\n",
    "    for node_ID, community in infomap.get_modules(depth_level = -1).items():\n",
    "        if not community in communities:\n",
    "            communities[community] = set()\n",
    "        communities[community].add(infomap.get_name(node_ID))\n",
    "\n",
    "    return communities"
   ]
  },
  {
   "cell_type": "markdown",
   "metadata": {},
   "source": [
    "Many centrality scores take a local or global perspective and derive node centralities either from node features, such as node degrees, or global patterns, such as shortest paths. Map equation centrality takes a modular perspective and derives node centralities from a node's flow and the flow of its module."
   ]
  },
  {
   "cell_type": "code",
   "execution_count": 4,
   "metadata": {},
   "outputs": [],
   "source": [
    "G = nx.Graph()\n",
    "G.add_edges_from([ (1,2), (1,3), (1,4), (2,4), (3,4) # left module\n",
    "                 , (4,5)                             # bridge\n",
    "                 , (5,6), (5,7), (5,8), (6,7)        # right module\n",
    "                 ])"
   ]
  },
  {
   "cell_type": "code",
   "execution_count": 5,
   "metadata": {},
   "outputs": [],
   "source": [
    "# hand-crafted layout\n",
    "pos = { 1 : [1,2]\n",
    "      , 2 : [0,1]\n",
    "      , 3 : [1,0]\n",
    "      , 4 : [2,1]\n",
    "      , 5 : [3,1]\n",
    "      , 6 : [4,2]\n",
    "      , 7 : [4,1]\n",
    "      , 8 : [4,0]\n",
    "      }"
   ]
  },
  {
   "cell_type": "code",
   "execution_count": 6,
   "metadata": {},
   "outputs": [
    {
     "data": {
      "image/png": "[encoded data removed]",
      "text/plain": [
       "<Figure size 400x200 with 1 Axes>"
      ]
     },
     "metadata": {},
     "output_type": "display_data"
    }
   ],
   "source": [
    "fig, ax = plt.subplots(1, 1, figsize = (4,2))\n",
    "nx.draw_networkx_nodes(G, pos = pos, node_color = \"grey\")\n",
    "nx.draw_networkx_edges(G, pos = pos)\n",
    "nx.draw_networkx_labels(G, pos = pos, font_color = \"white\")\n",
    "ax.axis(\"off\")\n",
    "plt.show()"
   ]
  },
  {
   "cell_type": "markdown",
   "metadata": {},
   "source": [
    "Some centrality scores, such as degree centrality and PageRank, consider nodes 4 and 5 equally important."
   ]
  },
  {
   "cell_type": "code",
   "execution_count": 7,
   "metadata": {},
   "outputs": [
    {
     "data": {
      "text/html": [
       "<div>\n",
       "<style scoped>\n",
       "    .dataframe tbody tr th:only-of-type {\n",
       "        vertical-align: middle;\n",
       "    }\n",
       "\n",
       "    .dataframe tbody tr th {\n",
       "        vertical-align: top;\n",
       "    }\n",
       "\n",
       "    .dataframe thead th {\n",
       "        text-align: right;\n",
       "    }\n",
       "</style>\n",
       "<table border=\"1\" class=\"dataframe\">\n",
       "  <thead>\n",
       "    <tr style=\"text-align: right;\">\n",
       "      <th></th>\n",
       "      <th>degree centrality</th>\n",
       "      <th>betweenness centrality</th>\n",
       "      <th>PageRank</th>\n",
       "    </tr>\n",
       "  </thead>\n",
       "  <tbody>\n",
       "    <tr>\n",
       "      <th>1</th>\n",
       "      <td>0.428571</td>\n",
       "      <td>0.023810</td>\n",
       "      <td>0.149994</td>\n",
       "    </tr>\n",
       "    <tr>\n",
       "      <th>2</th>\n",
       "      <td>0.285714</td>\n",
       "      <td>0.000000</td>\n",
       "      <td>0.099996</td>\n",
       "    </tr>\n",
       "    <tr>\n",
       "      <th>3</th>\n",
       "      <td>0.285714</td>\n",
       "      <td>0.000000</td>\n",
       "      <td>0.099996</td>\n",
       "    </tr>\n",
       "    <tr>\n",
       "      <th>4</th>\n",
       "      <td>0.571429</td>\n",
       "      <td>0.595238</td>\n",
       "      <td>0.199995</td>\n",
       "    </tr>\n",
       "    <tr>\n",
       "      <th>5</th>\n",
       "      <td>0.571429</td>\n",
       "      <td>0.666667</td>\n",
       "      <td>0.200007</td>\n",
       "    </tr>\n",
       "    <tr>\n",
       "      <th>6</th>\n",
       "      <td>0.285714</td>\n",
       "      <td>0.000000</td>\n",
       "      <td>0.100005</td>\n",
       "    </tr>\n",
       "    <tr>\n",
       "      <th>7</th>\n",
       "      <td>0.285714</td>\n",
       "      <td>0.000000</td>\n",
       "      <td>0.100005</td>\n",
       "    </tr>\n",
       "    <tr>\n",
       "      <th>8</th>\n",
       "      <td>0.142857</td>\n",
       "      <td>0.000000</td>\n",
       "      <td>0.050002</td>\n",
       "    </tr>\n",
       "  </tbody>\n",
       "</table>\n",
       "</div>"
      ],
      "text/plain": [
       "   degree centrality  betweenness centrality  PageRank\n",
       "1           0.428571                0.023810  0.149994\n",
       "2           0.285714                0.000000  0.099996\n",
       "3           0.285714                0.000000  0.099996\n",
       "4           0.571429                0.595238  0.199995\n",
       "5           0.571429                0.666667  0.200007\n",
       "6           0.285714                0.000000  0.100005\n",
       "7           0.285714                0.000000  0.100005\n",
       "8           0.142857                0.000000  0.050002"
      ]
     },
     "execution_count": 7,
     "metadata": {},
     "output_type": "execute_result"
    }
   ],
   "source": [
    "pd.concat( [ pd.DataFrame(index = sorted(G.nodes))\n",
    "           , pd.Series(nx.algorithms.centrality.degree_centrality(G), name = \"degree centrality\")\n",
    "           , pd.Series(nx.algorithms.centrality.betweenness_centrality(G), name = \"betweenness centrality\")\n",
    "           , pd.Series(nx.pagerank(G, alpha = 1), name = \"PageRank\")\n",
    "           ]\n",
    "         , axis = 1\n",
    "         )"
   ]
  },
  {
   "cell_type": "markdown",
   "metadata": {},
   "source": [
    "Map equation centrality can distinguish between these nodes by considering their modular context."
   ]
  },
  {
   "cell_type": "code",
   "execution_count": 8,
   "metadata": {},
   "outputs": [],
   "source": [
    "# map equation centrality becomes a local measure when we assign all nodes to the same module because this gives all nodes the same modular context\n",
    "im_one_level = Infomap(silent = True, no_infomap = True)\n",
    "node_mapping = im_one_level.add_networkx_graph(G)\n",
    "im_one_level.run()\n",
    "\n",
    "one_level_centralities = pd.Series({ node_mapping[node.node_id] : node.modular_centrality for node in im_one_level.iterLeafNodes()}, name = \"$M_1$\")"
   ]
  },
  {
   "cell_type": "code",
   "execution_count": 9,
   "metadata": {},
   "outputs": [
    {
     "data": {
      "image/png": "[encoded data removed]",
      "text/plain": [
       "<Figure size 400x200 with 1 Axes>"
      ]
     },
     "metadata": {},
     "output_type": "display_data"
    }
   ],
   "source": [
    "fig, ax = plt.subplots(1, 1, figsize = (4,2))\n",
    "nodelist = sorted(G.nodes)\n",
    "nx.draw_networkx_nodes(G, pos = pos, node_color = \"grey\", nodelist = nodelist, node_size = [2000*one_level_centralities.loc[node] for node in nodelist])\n",
    "nx.draw_networkx_edges(G, pos = pos)\n",
    "nx.draw_networkx_labels(G, pos = pos, font_color = \"white\")\n",
    "ax.axis(\"off\")\n",
    "plt.show()"
   ]
  },
  {
   "cell_type": "code",
   "execution_count": 10,
   "metadata": {},
   "outputs": [
    {
     "data": {
      "text/plain": [
       "4    0.257542\n",
       "5    0.257542\n",
       "1    0.199295\n",
       "2    0.136803\n",
       "3    0.136803\n",
       "6    0.136803\n",
       "7    0.136803\n",
       "8    0.070301\n",
       "Name: $M_1$, dtype: float64"
      ]
     },
     "execution_count": 10,
     "metadata": {},
     "output_type": "execute_result"
    }
   ],
   "source": [
    "# nodes 4 and 5 have the same centrality if we ignore modules\n",
    "one_level_centralities.sort_values(ascending = False)"
   ]
  },
  {
   "cell_type": "code",
   "execution_count": 11,
   "metadata": {},
   "outputs": [],
   "source": [
    "# centralities for the \"optimal\" partition as identified by Infomap\n",
    "im = Infomap(silent = True, two_level = True, num_trials = 100)\n",
    "node_mapping = im.add_networkx_graph(G)\n",
    "im.run()\n",
    "\n",
    "optimal_centralities = pd.Series({ node_mapping[node.node_id] : node.modular_centrality for node in im.iterLeafNodes() }, name = \"$M_{opt}$\")\n",
    "optimal_modules = dict(im.modules)"
   ]
  },
  {
   "cell_type": "code",
   "execution_count": 12,
   "metadata": {},
   "outputs": [
    {
     "data": {
      "image/png": "[encoded data removed]",
      "text/plain": [
       "<Figure size 400x200 with 1 Axes>"
      ]
     },
     "metadata": {},
     "output_type": "display_data"
    }
   ],
   "source": [
    "fig, ax = plt.subplots(1, 1, figsize = (4,2))\n",
    "nodelist = sorted(G.nodes)\n",
    "nx.draw_networkx_nodes(G, pos = pos, node_color = [sns.color_palette()[optimal_modules[node]-1] for node in nodelist], nodelist = nodelist, node_size = [2000*optimal_centralities.loc[node] for node in nodelist])\n",
    "nx.draw_networkx_edges(G, pos = pos)\n",
    "nx.draw_networkx_labels(G, pos = pos, font_color = \"white\")\n",
    "ax.axis(\"off\")\n",
    "plt.show()"
   ]
  },
  {
   "cell_type": "code",
   "execution_count": 13,
   "metadata": {},
   "outputs": [
    {
     "data": {
      "text/plain": [
       "4    0.228227\n",
       "5    0.211999\n",
       "1    0.183773\n",
       "2    0.130278\n",
       "3    0.130278\n",
       "6    0.126900\n",
       "7    0.126900\n",
       "8    0.067970\n",
       "Name: $M_{opt}$, dtype: float64"
      ]
     },
     "execution_count": 13,
     "metadata": {},
     "output_type": "execute_result"
    }
   ],
   "source": [
    "# if we consider modules, node 4 has higher centrality because it belongs to a module with more flow than node 5\n",
    "optimal_centralities.sort_values(ascending = False)"
   ]
  },
  {
   "cell_type": "code",
   "execution_count": 14,
   "metadata": {},
   "outputs": [],
   "source": [
    "# a sub-optimal partition according to Infomap\n",
    "im_sub = Infomap(silent = True, no_infomap = True)\n",
    "node_mapping = im_sub.add_networkx_graph(G)\n",
    "im_sub.run(initial_partition = {1:1, 2:1, 3:1, 4:2, 5:2, 6:2, 7:2, 8:2})\n",
    "\n",
    "suboptimal_centralities = pd.Series({ node_mapping[node.node_id] : node.modular_centrality for node in im_sub.iterLeafNodes() }, name = \"$M_{sub}$\")\n",
    "suboptimal_modules = dict(im_sub.modules)"
   ]
  },
  {
   "cell_type": "code",
   "execution_count": 15,
   "metadata": {},
   "outputs": [
    {
     "data": {
      "image/png": "[encoded data removed]",
      "text/plain": [
       "<Figure size 400x200 with 1 Axes>"
      ]
     },
     "metadata": {},
     "output_type": "display_data"
    }
   ],
   "source": [
    "fig, ax = plt.subplots(1, 1, figsize = (4,2))\n",
    "nodelist = sorted(G.nodes)\n",
    "nx.draw_networkx_nodes(G, pos = pos, node_color = [sns.color_palette()[suboptimal_modules[node]-1] for node in nodelist], nodelist = nodelist, node_size = [2000*suboptimal_centralities.loc[node] for node in nodelist])\n",
    "nx.draw_networkx_edges(G, pos = pos)\n",
    "nx.draw_networkx_labels(G, pos = pos, font_color = \"white\")\n",
    "ax.axis(\"off\")\n",
    "plt.show()"
   ]
  },
  {
   "cell_type": "code",
   "execution_count": 16,
   "metadata": {},
   "outputs": [
    {
     "data": {
      "text/plain": [
       "4    0.238732\n",
       "5    0.238732\n",
       "1    0.161471\n",
       "6    0.132554\n",
       "7    0.132554\n",
       "2    0.121357\n",
       "3    0.121357\n",
       "8    0.069286\n",
       "Name: $M_{sub}$, dtype: float64"
      ]
     },
     "execution_count": 16,
     "metadata": {},
     "output_type": "execute_result"
    }
   ],
   "source": [
    "# if 4 and 5 belong to the same module, we cannot identify this difference anymore\n",
    "suboptimal_centralities.sort_values(ascending = False)"
   ]
  }
 ],
 "metadata": {
  "kernelspec": {
   "display_name": ".venv",
   "language": "python",
   "name": "python3"
  },
  "language_info": {
   "codemirror_mode": {
    "name": "ipython",
    "version": 3
   },
   "file_extension": ".py",
   "mimetype": "text/x-python",
   "name": "python",
   "nbconvert_exporter": "python",
   "pygments_lexer": "ipython3",
   "version": "3.11.6"
  },
  "orig_nbformat": 4
 },
 "nbformat": 4,
 "nbformat_minor": 2
}
